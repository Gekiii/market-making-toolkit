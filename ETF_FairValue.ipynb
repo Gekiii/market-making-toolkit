{
 "cells": [
  {
   "cell_type": "markdown",
   "id": "f1c515f4",
   "metadata": {},
   "source": [
    "# 📊 ETF Fair Value Calculator\n",
    "Calculate real‑time NAV and premium/discount for any ETF."
   ]
  },
  {
   "cell_type": "code",
   "execution_count": null,
   "id": "dd52f3e6",
   "metadata": {},
   "outputs": [],
   "source": [
    "import pandas as pd\n",
    "import numpy as np\n",
    "import datetime as dt"
   ]
  },
  {
   "cell_type": "markdown",
   "id": "32e7ba1c",
   "metadata": {},
   "source": [
    "### 1️⃣ Load Constituent Weights"
   ]
  },
  {
   "cell_type": "code",
   "execution_count": null,
   "id": "95eb3b8c",
   "metadata": {},
   "outputs": [],
   "source": [
    "# df_weights must contain columns: ticker, weight\n",
    "# Replace path with your own file location\n",
    "df_weights = pd.read_csv('constituents.csv')\n",
    "df_weights.head()"
   ]
  },
  {
   "cell_type": "markdown",
   "id": "2890e93b",
   "metadata": {},
   "source": [
    "### 2️⃣ Fetch Latest Prices *(placeholder)*"
   ]
  },
  {
   "cell_type": "code",
   "execution_count": null,
   "id": "307c2066",
   "metadata": {},
   "outputs": [],
   "source": [
    "# In production, query a live feed (e.g. polygon, refinitiv).\n",
    "df_prices = pd.read_csv('prices.csv')\n",
    "latest = df_prices.groupby('ticker').last()['price']"
   ]
  },
  {
   "cell_type": "markdown",
   "id": "7aa74d05",
   "metadata": {},
   "source": [
    "### 3️⃣ Compute NAV"
   ]
  },
  {
   "cell_type": "code",
   "execution_count": null,
   "id": "01cccc69",
   "metadata": {},
   "outputs": [],
   "source": [
    "df = df_weights.merge(latest, on='ticker')\n",
    "nav = (df['weight'] * df['price']).sum()\n",
    "print('NAV:', nav.round(4))"
   ]
  },
  {
   "cell_type": "markdown",
   "id": "f8cdc21a",
   "metadata": {},
   "source": [
    "### 4️⃣ Compare to ETF Last Trade"
   ]
  },
  {
   "cell_type": "code",
   "execution_count": null,
   "id": "e651c675",
   "metadata": {},
   "outputs": [],
   "source": [
    "etf_price = 100  # ← replace with live quote\n",
    "premium = (etf_price - nav) / nav\n",
    "print(f'Premium / Discount: {premium:.2%}')"
   ]
  },
  {
   "cell_type": "markdown",
   "id": "551da735",
   "metadata": {},
   "source": [
    "#### Next Steps\n",
    "* Hook this into a websocket feed for tick‑level updates\n",
    "* Visualize NAV vs. market price in real time"
   ]
  },
  {
   "cell_type": "markdown",
   "id": "cebab4c2",
   "metadata": {},
   "source": [
    "© 2025 Giacomo Brusadelli"
   ]
  }
 ],
 "metadata": {},
 "nbformat": 4,
 "nbformat_minor": 5
}
