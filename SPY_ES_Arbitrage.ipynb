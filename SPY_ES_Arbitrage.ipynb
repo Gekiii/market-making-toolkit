{
 "cells": [
  {
   "cell_type": "markdown",
   "id": "1dc62dc6",
   "metadata": {},
   "source": [
    "# 📈 SPY vs ES Futures Statistical Arbitrage\n",
    "Kaggle‑style exploratory notebook."
   ]
  },
  {
   "cell_type": "code",
   "execution_count": null,
   "id": "ca4ffb8a",
   "metadata": {},
   "outputs": [],
   "source": [
    "import pandas as pd\n",
    "import numpy as np\n",
    "import matplotlib.pyplot as plt\n",
    "from statsmodels.tsa.stattools import coint"
   ]
  },
  {
   "cell_type": "markdown",
   "id": "ff3ade7f",
   "metadata": {},
   "source": [
    "### 1️⃣ Load Historical Price Data"
   ]
  },
  {
   "cell_type": "code",
   "execution_count": null,
   "id": "a47a998d",
   "metadata": {},
   "outputs": [],
   "source": [
    "spy = pd.read_csv('spy.csv', index_col=0, parse_dates=True)['close']\n",
    "es  = pd.read_csv('es.csv',  index_col=0, parse_dates=True)['close']"
   ]
  },
  {
   "cell_type": "markdown",
   "id": "ab482273",
   "metadata": {},
   "source": [
    "### 2️⃣ Align Series & Compute Spread"
   ]
  },
  {
   "cell_type": "code",
   "execution_count": null,
   "id": "ef807d2f",
   "metadata": {},
   "outputs": [],
   "source": [
    "df = pd.concat({'spy': spy, 'es': es}, axis=1).dropna()\n",
    "spread = np.log(df['spy']) - np.log(df['es'])"
   ]
  },
  {
   "cell_type": "markdown",
   "id": "8a870d83",
   "metadata": {},
   "source": [
    "### 3️⃣ Cointegration Test"
   ]
  },
  {
   "cell_type": "code",
   "execution_count": null,
   "id": "b68a8c7a",
   "metadata": {},
   "outputs": [],
   "source": [
    "score, pvalue, _ = coint(np.log(df['spy']), np.log(df['es']))\n",
    "print('p‑value:', pvalue)"
   ]
  },
  {
   "cell_type": "markdown",
   "id": "42e2c40f",
   "metadata": {},
   "source": [
    "### 4️⃣ Generate Z‑score & Trading Signals"
   ]
  },
  {
   "cell_type": "code",
   "execution_count": null,
   "id": "9bfa2e2d",
   "metadata": {},
   "outputs": [],
   "source": [
    "z = (spread - spread.mean()) / spread.std()\n",
    "entry, exit = 1.5, 0.5\n",
    "signals = np.where(z > entry, -1, np.where(z < -entry, 1, 0))"
   ]
  },
  {
   "cell_type": "markdown",
   "id": "6e6cb8ae",
   "metadata": {},
   "source": [
    "### 5️⃣ Backtest Skeleton"
   ]
  },
  {
   "cell_type": "code",
   "execution_count": null,
   "id": "161fd560",
   "metadata": {},
   "outputs": [],
   "source": [
    "capital = 1_000_000\n",
    "# Implement P/L based on positions in SPY & ES here"
   ]
  },
  {
   "cell_type": "markdown",
   "id": "da6b092c",
   "metadata": {},
   "source": [
    "#### Improvements\n",
    "* Add transaction costs & slippage\n",
    "* Intraday granularity\n",
    "* Adaptive threshold optimisation"
   ]
  },
  {
   "cell_type": "markdown",
   "id": "174528a4",
   "metadata": {},
   "source": [
    "© 2025 Giacomo Brusadelli"
   ]
  }
 ],
 "metadata": {},
 "nbformat": 4,
 "nbformat_minor": 5
}
